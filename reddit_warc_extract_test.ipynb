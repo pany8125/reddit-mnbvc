{
 "cells": [
  {
   "cell_type": "code",
   "execution_count": 2,
   "metadata": {},
   "outputs": [
    {
     "name": "stdout",
     "output_type": "stream",
     "text": [
      "approvedSubmitters 的值：\n",
      "{\n",
      "  \"api\": {\n",
      "    \"error\": null,\n",
      "    \"pending\": {}\n",
      "  },\n",
      "  \"fetchedTokens\": {},\n",
      "  \"loadMore\": {},\n",
      "  \"models\": {},\n",
      "  \"search\": {\n",
      "    \"api\": {\n",
      "      \"error\": null,\n",
      "      \"pending\": false\n",
      "    },\n",
      "    \"result\": null\n",
      "  },\n",
      "  \"userOrder\": {}\n",
      "}\n"
     ]
    }
   ],
   "source": [
    "import json\n",
    "\n",
    "def print_approved_submitters(file_path):\n",
    "    try:\n",
    "        with open(file_path, 'r', encoding='utf-8') as f:\n",
    "            data = json.load(f, strict=False)  # 网页1][网页2][网页4]\n",
    "            \n",
    "            # 直接访问键值\n",
    "            if 'approvedSubmitters' in data:\n",
    "                print(\"approvedSubmitters 的值：\")\n",
    "                print(json.dumps(data['approvedSubmitters'], indent=2))  # 网页4 的格式化输出\n",
    "            else:\n",
    "                print(\"未找到 approvedSubmitters 键\")\n",
    "                \n",
    "    except FileNotFoundError:\n",
    "        print(f\"错误：文件 {file_path} 不存在\")\n",
    "    except json.JSONDecodeError as e:\n",
    "        print(f\"JSON 解析错误：{e}\")  # 网页1 的异常处理\n",
    "\n",
    "# 使用示例\n",
    "print_approved_submitters('D:\\\\MNBVC\\\\reddit-mnbvc\\\\test_warc_dir\\\\dest_file\\\\demo_json.txt')"
   ]
  },
  {
   "cell_type": "code",
   "execution_count": 3,
   "metadata": {},
   "outputs": [
    {
     "name": "stdout",
     "output_type": "stream",
     "text": [
      "D:\\MNBVC\\reddit-mnbvc\\test_warc_dir\\src_file\\old.reddit.com-r-Chadtopia-2020-06-23-14022a2c-00000.warc.gz 共有 33626 条记录\n"
     ]
    }
   ],
   "source": [
    "from fastwarc.warc import ArchiveIterator, WarcRecordType\n",
    "import os\n",
    "SOURCE_DIR = 'D:\\\\MNBVC\\\\reddit-mnbvc\\\\test_warc_dir\\\\src_file'\n",
    "# 读取当前目录下所有文件\n",
    "for filename in os.listdir(SOURCE_DIR):\n",
    "    # 打印全路径文件名\n",
    "    filename = os.path.join(SOURCE_DIR, filename)\n",
    "    # 判断是否为warc或warc.gz文件，如果不是就跳过\n",
    "    if not filename.endswith('.warc') and not filename.endswith('.warc.gz'):\n",
    "        print(f\"跳过非warc文件：{filename}\")\n",
    "        continue\n",
    "    warc_cnt = 0\n",
    "    with open(filename, 'rb') as f:\n",
    "        for record in ArchiveIterator(f):\n",
    "            warc_cnt += 1\n",
    "    print(f\"{filename} 共有 {warc_cnt} 条记录\")"
   ]
  },
  {
   "cell_type": "code",
   "execution_count": 11,
   "metadata": {},
   "outputs": [
    {
     "name": "stdout",
     "output_type": "stream",
     "text": [
      "https://www.reddit.com/r/Python/ 是否包含redd字符：True\n",
      "https://www.reddit.com/r/learnpython/ 是否包含redd字符：True\n",
      "https://www.reddit.com/r/learnpython/comments/4b7g3u/ 是否包含redd字符：True\n",
      "https://www.reddithelp.com/en 是否包含redd字符：True\n",
      "https://reddithelp.com/en 是否包含redd字符：True\n",
      "https://play.google.com/store/apps/details?id=com.reddit.frontpage 是否包含redd字符：False\n",
      "https://www.usa.gov/register-to-vote 是否包含redd字符：False\n",
      "https://preview.redd.it/w59dv0p2p1351.jpg\n"
     ]
    }
   ],
   "source": [
    "# 判断URL的域名中是否包含redd字符，需要先解析到一二三级域名，再判断是否包含redd字符\n",
    "from urllib.parse import urlparse\n",
    "def is_reddit_url(url):\n",
    "    domain = urlparse(url).hostname\n",
    "    if domain is None:\n",
    "        return False\n",
    "    return 'redd' in domain\n",
    "# 提取不带参数的 URL\n",
    "def extract_base_url(url):\n",
    "    parsed_url = urlparse(url)\n",
    "    return f\"{parsed_url.scheme}://{parsed_url.netloc}{parsed_url.path}\"\n",
    "\n",
    "urls = ['https://www.reddit.com/r/Python/', 'https://www.reddit.com/r/learnpython/', 'https://www.reddit.com/r/learnpython/comments/4b7g3u/'\n",
    "        ,\"https://www.reddithelp.com/en\"\n",
    "        ,\"https://reddithelp.com/en\"\n",
    "        ,\"https://play.google.com/store/apps/details?id=com.reddit.frontpage\"\n",
    "        ,\"https://www.usa.gov/register-to-vote\"]\n",
    "for url in urls:\n",
    "    print(f\"{url} 是否包含redd字符：{is_reddit_url(url)}\")\n",
    "print(extract_base_url(\"https://preview.redd.it/w59dv0p2p1351.jpg?width=628&auto=webp&s=fb501ba7da5e2bb2ebff65f904edb413f8db63e5\"))"
   ]
  }
 ],
 "metadata": {
  "kernelspec": {
   "display_name": "Python 3",
   "language": "python",
   "name": "python3"
  },
  "language_info": {
   "codemirror_mode": {
    "name": "ipython",
    "version": 3
   },
   "file_extension": ".py",
   "mimetype": "text/x-python",
   "name": "python",
   "nbconvert_exporter": "python",
   "pygments_lexer": "ipython3",
   "version": "3.13.2"
  }
 },
 "nbformat": 4,
 "nbformat_minor": 2
}
